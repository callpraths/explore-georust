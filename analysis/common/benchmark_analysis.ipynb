{
 "cells": [
  {
   "cell_type": "markdown",
   "metadata": {},
   "source": [
    "## Usage\n",
    "\n",
    "This is a helper notebook. Run it from another notebook as:\n",
    "\n",
    "```\n",
    "%run ../common/benchmark_analysis.ipynb \n",
    "```\n",
    "\n",
    "## Input\n",
    "\n",
    "Set `data_absolute_path` to the file with JSON data to be analyzed.\n",
    "This data should be generated using the `notsofine::benchmark_run` from `harness`.\n",
    "\n",
    "## Output\n",
    "\n",
    "When this notebook completes,\n",
    "* Raw data will be loaded in variable `df`\n",
    "* Per program data series will be loaded in `series`."
   ]
  },
  {
   "cell_type": "code",
   "execution_count": null,
   "metadata": {},
   "outputs": [],
   "source": [
    "import json\n",
    "import matplotlib.pyplot as plt\n",
    "import numpy as np\n",
    "import pandas as pd\n",
    "\n",
    "plt.style.use('seaborn-whitegrid')"
   ]
  },
  {
   "cell_type": "code",
   "execution_count": null,
   "metadata": {},
   "outputs": [],
   "source": [
    "print(\"Loading data from \" + data_absolute_path)\n",
    "\n",
    "with open(data_absolute_path) as f:\n",
    "    data = json.loads(f.read())\n",
    "df = pd.json_normalize(data['runs'])"
   ]
  },
  {
   "cell_type": "code",
   "execution_count": null,
   "metadata": {},
   "outputs": [],
   "source": [
    "df['duration.total_ms'] = df['duration.secs'] * 1e3 + df['duration.nanos'] / 1e6\n",
    "\n",
    "series = df.pivot(\n",
    "    columns='program', \n",
    "    values=['duration.total_ms' ])\n",
    "\n",
    "print(series.describe())\n",
    "\n",
    "series.plot(y='duration.total_ms', kind='line',\n",
    "            title='blah')\n"
   ]
  },
  {
   "cell_type": "markdown",
   "metadata": {},
   "source": [
    "# "
   ]
  }
 ],
 "metadata": {
  "interpreter": {
   "hash": "916dbcbb3f70747c44a77c7bcd40155683ae19c65e1c03b4aa3499c5328201f1"
  },
  "kernelspec": {
   "display_name": "Python 3.7.3 64-bit",
   "language": "python",
   "name": "python3"
  },
  "language_info": {
   "codemirror_mode": {
    "name": "ipython",
    "version": 3
   },
   "file_extension": ".py",
   "mimetype": "text/x-python",
   "name": "python",
   "nbconvert_exporter": "python",
   "pygments_lexer": "ipython3",
   "version": "3.7.3"
  },
  "orig_nbformat": 4
 },
 "nbformat": 4,
 "nbformat_minor": 2
}
