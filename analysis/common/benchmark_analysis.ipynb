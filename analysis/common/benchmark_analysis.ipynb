{
 "cells": [
  {
   "cell_type": "markdown",
   "metadata": {},
   "source": [
    "## Usage\n",
    "\n",
    "This is a helper notebook. Run it from another notebook as:\n",
    "\n",
    "```\n",
    "%run ../common/benchmark_analysis.ipynb \n",
    "```\n",
    "\n",
    "## Input\n",
    "\n",
    "Set `data_absolute_path` to the file with JSON data to be analyzed.\n",
    "This data should be generated using the `notsofine::benchmark_run` from `harness`."
   ]
  },
  {
   "cell_type": "code",
   "execution_count": null,
   "metadata": {},
   "outputs": [],
   "source": [
    "import json\n",
    "import matplotlib.pyplot as plt\n",
    "import numpy as np\n",
    "import pandas as pd\n",
    "from scipy import stats\n",
    "\n",
    "plt.style.use('seaborn-whitegrid')"
   ]
  },
  {
   "cell_type": "code",
   "execution_count": null,
   "metadata": {},
   "outputs": [],
   "source": [
    "# Uncomment for debugging.\n",
    "\n",
    "# import os\n",
    "# data_absolute_path = os.path.join(os.getcwd(), '..', 'benchmark_trivial', 'data.json')"
   ]
  },
  {
   "cell_type": "code",
   "execution_count": null,
   "metadata": {},
   "outputs": [],
   "source": [
    "print(\"### Loading data from \" + data_absolute_path)\n",
    "\n",
    "with open(data_absolute_path) as f:\n",
    "    data = json.loads(f.read())\n",
    "df = pd.json_normalize(data['iterations'], 'runs', ['i'])"
   ]
  },
  {
   "cell_type": "code",
   "execution_count": null,
   "metadata": {},
   "outputs": [],
   "source": [
    "df['duration.total_ms'] = df['duration.secs'] * \\\n",
    "    1e3 + df['duration.nanos'] / 1e6\n",
    "df['qps'] = 1.0e6 / df['duration.total_ms']\n",
    "series = df.pivot(\n",
    "    index='i',\n",
    "    columns='program',\n",
    "    values=['qps'])\n",
    "\n",
    "print('### Statistics: Raw data')\n",
    "print(series.describe())\n",
    "series.plot(y='qps', kind='line',\n",
    "            title='Measured queries per second in all benchmark runs')\n"
   ]
  },
  {
   "cell_type": "markdown",
   "metadata": {},
   "source": [
    "# "
   ]
  },
  {
   "cell_type": "code",
   "execution_count": null,
   "metadata": {},
   "outputs": [],
   "source": [
    "# Remove outliers by dropping rows where _any_ column value is more than 2 SDs away from the column mean.\n",
    "\n",
    "mask = (np.abs(stats.zscore(series)) < 2).all(axis=1)\n",
    "series_sans_outliers = series[mask]\n",
    "\n",
    "print('### Statistics: After outlier removal')\n",
    "print(series_sans_outliers.describe())\n",
    "series_sans_outliers.plot(y='qps', kind='line',\n",
    "                          title='Queries per second in all benchmark runs after outlier removal')\n"
   ]
  },
  {
   "cell_type": "code",
   "execution_count": null,
   "metadata": {},
   "outputs": [],
   "source": [
    "baseline = series_sans_outliers.columns[0][1]\n",
    "ratio = series_sans_outliers.divide(series_sans_outliers.iloc[:, 0], axis=0).rename({\n",
    "    'qps': 'qps'}, axis=1)\n",
    "ratio = ratio.iloc[:, 1:]\n",
    "print('## Ratio of qps compared to ' + baseline)\n",
    "print(ratio.describe())\n",
    "ratio.plot(y='qps', kind='line',\n",
    "           title='Ratio of queries per second w.r.t.' + baseline)\n"
   ]
  }
 ],
 "metadata": {
  "interpreter": {
   "hash": "916dbcbb3f70747c44a77c7bcd40155683ae19c65e1c03b4aa3499c5328201f1"
  },
  "kernelspec": {
   "display_name": "Python 3.7.3 64-bit",
   "language": "python",
   "name": "python3"
  },
  "language_info": {
   "codemirror_mode": {
    "name": "ipython",
    "version": 3
   },
   "file_extension": ".py",
   "mimetype": "text/x-python",
   "name": "python",
   "nbconvert_exporter": "python",
   "pygments_lexer": "ipython3",
   "version": "3.7.3"
  },
  "orig_nbformat": 4
 },
 "nbformat": 4,
 "nbformat_minor": 2
}
