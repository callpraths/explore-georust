{
 "cells": [
  {
   "cell_type": "markdown",
   "metadata": {},
   "source": [
    "# Prerequisites\n",
    "\n",
    "Generate data:\n",
    "\n",
    "```sh\n",
    "cd harness\n",
    "cargo run --bin benchmark_trivial > ../analysis/benchmark_trivial/data.json\n",
    "```"
   ]
  },
  {
   "cell_type": "code",
   "execution_count": 20,
   "metadata": {},
   "outputs": [
    {
     "name": "stdout",
     "output_type": "stream",
     "text": [
      "Loading data from /mnt/data/source/explore-georust/analysis/benchmark_trivial/data.json\n",
      "        duration.total_ms             \n",
      "program            Looper      Sleeper\n",
      "count            2.000000     2.000000\n",
      "mean             0.905906  1000.124880\n",
      "std              0.031604     0.001686\n",
      "min              0.883559  1000.123688\n",
      "25%              0.894733  1000.124284\n",
      "50%              0.905906  1000.124880\n",
      "75%              0.917080  1000.125476\n",
      "max              0.928254  1000.126072\n"
     ]
    },
    {
     "data": {
      "image/png": "[encoded data removed]",
      "text/plain": [
       "<Figure size 432x288 with 1 Axes>"
      ]
     },
     "metadata": {},
     "output_type": "display_data"
    }
   ],
   "source": [
    "import os\n",
    "data_absolute_path = os.path.join(os.getcwd(), 'data.json')\n",
    "%run ../common/benchmark_analysis.ipynb"
   ]
  }
 ],
 "metadata": {
  "interpreter": {
   "hash": "916dbcbb3f70747c44a77c7bcd40155683ae19c65e1c03b4aa3499c5328201f1"
  },
  "kernelspec": {
   "display_name": "Python 3.7.3 64-bit",
   "language": "python",
   "name": "python3"
  },
  "language_info": {
   "codemirror_mode": {
    "name": "ipython",
    "version": 3
   },
   "file_extension": ".py",
   "mimetype": "text/x-python",
   "name": "python",
   "nbconvert_exporter": "python",
   "pygments_lexer": "ipython3",
   "version": "3.7.3"
  },
  "orig_nbformat": 4
 },
 "nbformat": 4,
 "nbformat_minor": 2
}
